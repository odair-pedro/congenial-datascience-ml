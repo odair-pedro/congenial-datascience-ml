{
    "cells": [
        {
            "cell_type": "markdown",
            "source": [
                "# Collecting and Analying Data\n",
                "---\n",
                "## Football Matchs"
            ],
            "metadata": {}
        },
        {
            "cell_type": "markdown",
            "source": [
                "## Processing the data with Pandas"
            ],
            "metadata": {}
        },
        {
            "cell_type": "code",
            "execution_count": null,
            "source": [
                "import pandas as pd"
            ],
            "outputs": [],
            "metadata": {}
        },
        {
            "cell_type": "markdown",
            "source": [
                "### Reading datasets (CSV files)\n",
                "#### Keeping the key collumns as indexes"
            ],
            "metadata": {}
        },
        {
            "cell_type": "code",
            "execution_count": null,
            "source": [
                "def read_matches(year: int) -> pd.DataFrame:\n",
                "    return pd.read_csv(f'../../datasets/exercise-1/jogos_{year}.csv', index_col=['data', 'id_clube1', 'id_clube2'])\n",
                "\n",
                "def read_clubs() -> pd.DataFrame:\n",
                "    return pd.read_csv('../../datasets/exercise-1/clubes.csv', index_col='id_clube')\n",
                "\n",
                "def read_states() -> pd.DataFrame:\n",
                "    return pd.read_csv('../../datasets/exercise-1/estados.csv', index_col='id_estado')\n",
                "\n",
                "def read_arenas() -> pd.DataFrame:\n",
                "    return pd.read_csv('../../datasets/exercise-1/arenas.csv', index_col='id_arena')"
            ],
            "outputs": [],
            "metadata": {}
        },
        {
            "cell_type": "markdown",
            "source": [
                "### Getting a data sample"
            ],
            "metadata": {}
        },
        {
            "cell_type": "code",
            "execution_count": null,
            "source": [
                "df_sample = read_matches(2017)\n",
                "print('Shape: ', df_sample.shape)\n",
                "\n",
                "df_sample.sample(frac=0.1, random_state=1)"
            ],
            "outputs": [],
            "metadata": {}
        },
        {
            "cell_type": "markdown",
            "source": [
                "### Getting a basic stats about numeric fields in the data frame"
            ],
            "metadata": {}
        },
        {
            "cell_type": "code",
            "execution_count": null,
            "source": [
                "df_sample.describe()"
            ],
            "outputs": [],
            "metadata": {}
        },
        {
            "cell_type": "markdown",
            "source": [
                "### Concating all matchs in an unique data frame"
            ],
            "metadata": {}
        },
        {
            "cell_type": "code",
            "execution_count": null,
            "source": [
                "def read_all_matches() -> pd.DataFrame:\n",
                "     return pd.concat([read_matches(2013), read_matches(2014), read_matches(2015), read_matches(2016), read_matches(2017)])\n",
                "\n",
                "df_matches = read_all_matches()\n",
                "print('New Shape: ', df_matches.shape)"
            ],
            "outputs": [],
            "metadata": {}
        },
        {
            "cell_type": "markdown",
            "source": [
                "#### Basic stats after data concat"
            ],
            "metadata": {}
        },
        {
            "cell_type": "code",
            "execution_count": null,
            "source": [
                "df_matches.describe()"
            ],
            "outputs": [],
            "metadata": {}
        },
        {
            "cell_type": "markdown",
            "source": [
                "#### Data sample after concat"
            ],
            "metadata": {}
        },
        {
            "cell_type": "code",
            "execution_count": null,
            "source": [
                "df_matches.sample(frac=0.01, random_state=1)"
            ],
            "outputs": [],
            "metadata": {}
        },
        {
            "cell_type": "markdown",
            "source": [
                "### Joining data in an unique data frame (Denormalization)"
            ],
            "metadata": {}
        },
        {
            "cell_type": "code",
            "execution_count": null,
            "source": [
                "df_arenas = read_arenas()\n",
                "df_clubs = read_clubs()\n",
                "df_states = read_states()\n",
                "\n",
                "df_matches = (read_all_matches()\n",
                "                .join(df_arenas, how='left', on='id_arena')\n",
                "                .join(df_clubs, how='left', on='id_clube1')#.rename(columns={'desc_clube': 'desc_clube1'})\n",
                "                .join(df_clubs, how='left', on='id_clube2', lsuffix='1', rsuffix='2')#.rename(columns={'desc_clube': 'desc_clube2'})\n",
                "                .join(df_clubs, how='left', on='id_clube_vencedor').rename(columns={'desc_clube': 'desc_clube_vencedor'})\n",
                "                .join(df_states, how='left', on='id_estado_clube1')\n",
                "                .join(df_states, how='left', on='id_estado_clube2', lsuffix='1', rsuffix='2')\n",
                "                .join(df_states, how='left', on='id_estado_vencedor').rename(columns={'sigla_estado': 'sigla_estado_vencedor', 'desc_estado': 'desc_estado_vencedor'}))\n",
                "\n",
                "df_matches.sample(frac=0.005)"
            ],
            "outputs": [],
            "metadata": {}
        },
        {
            "cell_type": "markdown",
            "source": [
                "## Exploring data\n",
                "At this point we already have the ready to work. And now we will explore it."
            ],
            "metadata": {}
        },
        {
            "cell_type": "markdown",
            "source": [
                "## Answering some questions\n",
                "\n",
                "### 1. Which club did more goals in all seasons?"
            ],
            "metadata": {}
        },
        {
            "cell_type": "code",
            "execution_count": null,
            "source": [
                "def sum_goals_by_club(df: pd.DataFrame) -> pd.DataFrame:\n",
                "    df_club1 = (df.reset_index()[['desc_clube1', 'qtd_gols_clube1']]\n",
                "                .rename(columns={'desc_clube1': 'desc_clube', 'qtd_gols_clube1': 'qtd_gols_clube'}))\n",
                "            \n",
                "    df_club2 = (df.reset_index()[['desc_clube2', 'qtd_gols_clube2']]\n",
                "                .rename(columns={'desc_clube2': 'desc_clube', 'qtd_gols_clube2': 'qtd_gols_clube'}))\n",
                "\n",
                "    df_clubs = pd.concat([df_club1, df_club2])\n",
                "    df_sum_goals = df_clubs.groupby('desc_clube')['qtd_gols_clube'].sum().reset_index()\n",
                "    return df_sum_goals.sort_values(by='qtd_gols_clube', ascending=False)\n",
                "\n",
                "# Getting top 5\n",
                "sum_goals_by_club(df_matches).head(5)"
            ],
            "outputs": [],
            "metadata": {}
        },
        {
            "cell_type": "markdown",
            "source": [
                "### 2. Which club did more goals in 2015 season?"
            ],
            "metadata": {}
        },
        {
            "cell_type": "code",
            "execution_count": null,
            "source": [
                "def filter_by_year(df: pd.DataFrame, year) -> pd.DataFrame:\n",
                "    df_r = df_matches.reset_index()\n",
                "    return df_r[df_r['data'].str.slice(start=6, stop=10, step=1) == str(year)]\n",
                "\n",
                "df_15 = filter_by_year(df_matches, 2015)\n",
                "\n",
                "# Getting top 5\n",
                "sum_goals_by_club(df_15).head(5)"
            ],
            "outputs": [],
            "metadata": {}
        },
        {
            "cell_type": "markdown",
            "source": [
                "### 3. Which match had more goals in all the seasons?"
            ],
            "metadata": {}
        },
        {
            "cell_type": "code",
            "execution_count": null,
            "source": [
                "df_matches[\"total_gols\"] = df_matches[\"qtd_gols_clube1\"] + df_matches[\"qtd_gols_clube2\"]\n",
                "\n",
                "# Getting top 5\n",
                "df_matches.sort_values(by=\"total_gols\", ascending=False).head(5)\n"
            ],
            "outputs": [],
            "metadata": {}
        },
        {
            "cell_type": "markdown",
            "source": [
                "### 4. Which was the greatest victory in all the seasons (Considering the diference of goals between the winner and the loser team)"
            ],
            "metadata": {}
        },
        {
            "cell_type": "code",
            "execution_count": null,
            "source": [
                "import numpy as np\n",
                "\n",
                "df_matches['dif_gols'] = np.power(df_matches['qtd_gols_clube1'] - df_matches['qtd_gols_clube2'], 2) # To prevent negative values we can also use method \"abs() - absolute values\" rather than to use power and sqrt\n",
                "df_matches['dif_gols'] = np.sqrt(df_matches['dif_gols'])\n",
                "\n",
                "df_matches.sort_values(by='dif_gols', ascending=False).reset_index()[['desc_clube_vencedor', 'dif_gols']].head(5)"
            ],
            "outputs": [],
            "metadata": {}
        },
        {
            "cell_type": "code",
            "execution_count": null,
            "source": [
                "df_without_idx = df_matches.reset_index(drop=True) # Reseting indexes and dropping columns\n",
                "df_without_idx.sample(frac=0.01)"
            ],
            "outputs": [],
            "metadata": {}
        },
        {
            "cell_type": "markdown",
            "source": [
                "### 5. Which state was the greatest winner in 2016 (Match winner)"
            ],
            "metadata": {}
        },
        {
            "cell_type": "code",
            "execution_count": null,
            "source": [
                "df_16 = filter_by_year(df_matches, 2016)\n",
                "df_16 = df_16[df_16['id_estado_vencedor'] != 0]\n",
                "df_16.groupby('desc_estado_vencedor')['desc_estado_vencedor'].count().sort_values(ascending=False).head(1)"
            ],
            "outputs": [],
            "metadata": {}
        },
        {
            "cell_type": "markdown",
            "source": [
                "---\n",
                "#### Correlation\n",
                "https://towardsdatascience.com/why-feature-correlation-matters-a-lot-847e8ba439c4"
            ],
            "metadata": {}
        },
        {
            "cell_type": "code",
            "execution_count": null,
            "source": [
                "import matplotlib.pyplot as plt\n",
                "import seaborn as sns\n",
                "\n",
                "def correlation_heatmap(train):\n",
                "    correlations = train.corr()\n",
                "\n",
                "    fig, ax = plt.subplots(figsize=(10,10))\n",
                "    sns.heatmap(correlations, vmax=1.0, center=0, fmt='.2f',\n",
                "                square=True, linewidths=.5, annot=True, cbar_kws={\"shrink\": .70})\n",
                "    plt.show()\n",
                "    \n",
                "correlation_heatmap(df_matches)"
            ],
            "outputs": [],
            "metadata": {}
        },
        {
            "cell_type": "code",
            "execution_count": null,
            "source": [],
            "outputs": [],
            "metadata": {}
        }
    ],
    "metadata": {
        "orig_nbformat": 4,
        "language_info": {
            "name": "python",
            "version": "3.9.5",
            "mimetype": "text/x-python",
            "codemirror_mode": {
                "name": "ipython",
                "version": 3
            },
            "pygments_lexer": "ipython3",
            "nbconvert_exporter": "python",
            "file_extension": ".py"
        },
        "kernelspec": {
            "name": "python3",
            "display_name": "Python 3.9.5 64-bit ('data-processing-esZWEcqC': pipenv)"
        },
        "interpreter": {
            "hash": "9325dcc70c76aab5b184d6a9e432b63ee327602d0800713ae2fd0105c187a57c"
        }
    },
    "nbformat": 4,
    "nbformat_minor": 2
}