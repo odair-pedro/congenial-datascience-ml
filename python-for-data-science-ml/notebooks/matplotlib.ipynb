{
 "metadata": {
  "language_info": {
   "codemirror_mode": {
    "name": "ipython",
    "version": 3
   },
   "file_extension": ".py",
   "mimetype": "text/x-python",
   "name": "python",
   "nbconvert_exporter": "python",
   "pygments_lexer": "ipython3",
   "version": "3.9.5"
  },
  "orig_nbformat": 4,
  "kernelspec": {
   "name": "python3",
   "display_name": "Python 3.9.5 64-bit ('Python_for_Data_Science-QB654vqA': venv)"
  },
  "interpreter": {
   "hash": "115ea0df6aed43178a02d120302867a4544a2485ef2e477abb60b108f383601b"
  }
 },
 "nbformat": 4,
 "nbformat_minor": 2,
 "cells": [
  {
   "source": [
    "# Matplotlib - Working with graphs\n",
    "---\n",
    "\n",
    "SciPy Source: https://scipy-lectures.org/intro/matplotlib/index.html#matplotlib-plotting\n",
    "\n",
    "Lib Source: https://matplotlib.org/stable/gallery/index.html"
   ],
   "cell_type": "markdown",
   "metadata": {}
  },
  {
   "source": [
    "## Scatter Plots\n",
    "Source: https://scipy-lectures.org/intro/matplotlib/auto_examples/plot_scatter.html\n",
    "\n",
    "Documentation and example: https://matplotlib.org/stable/gallery/lines_bars_and_markers/scatter_masked.html#sphx-glr-gallery-lines-bars-and-markers-scatter-masked-py"
   ],
   "cell_type": "markdown",
   "metadata": {}
  },
  {
   "cell_type": "code",
   "execution_count": 4,
   "metadata": {},
   "outputs": [],
   "source": [
    "# TODO..."
   ]
  }
 ]
}