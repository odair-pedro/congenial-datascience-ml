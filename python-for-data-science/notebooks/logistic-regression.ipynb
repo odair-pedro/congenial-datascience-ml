{
 "metadata": {
  "language_info": {
   "codemirror_mode": {
    "name": "ipython",
    "version": 3
   },
   "file_extension": ".py",
   "mimetype": "text/x-python",
   "name": "python",
   "nbconvert_exporter": "python",
   "pygments_lexer": "ipython3",
   "version": "3.9.5"
  },
  "orig_nbformat": 4,
  "kernelspec": {
   "name": "python3",
   "display_name": "Python 3.9.5 64-bit ('python-for-data-science-FapMMdLP': pipenv)"
  },
  "interpreter": {
   "hash": "9a25ce44a1326a5ead05ca1e260fa23e8e19ef3f1f5c25f607d753b074e6a2b9"
  }
 },
 "nbformat": 4,
 "nbformat_minor": 2,
 "cells": [
  {
   "source": [
    "# Logistic Regression\n",
    "---\n",
    "\n",
    "Source: https://scikit-learn.org/stable/modules/generated/sklearn.linear_model.LogisticRegression.html\n",
    "\n",
    "### **Aditional Content**\n",
    "\n",
    "Linear Models: https://scikit-learn.org/stable/modules/linear_model.html\n",
    "\n",
    "Linear vs Logistic Regression: https://www.analyticsvidhya.com/blog/2020/12/beginners-take-how-logistic-regression-is-related-to-linear-regression/"
   ],
   "cell_type": "markdown",
   "metadata": {}
  },
  {
   "source": [
    "## Example 1"
   ],
   "cell_type": "markdown",
   "metadata": {}
  },
  {
   "cell_type": "code",
   "execution_count": 22,
   "metadata": {},
   "outputs": [],
   "source": [
    "from sklearn.datasets import load_iris\n",
    "from sklearn.linear_model import LogisticRegression"
   ]
  },
  {
   "cell_type": "code",
   "execution_count": 23,
   "metadata": {},
   "outputs": [
    {
     "output_type": "stream",
     "name": "stdout",
     "text": [
      "shape of x: (150, 4)\n",
      "shape of y: (150,)\n",
      "/Users/odair/.local/share/virtualenvs/python-for-data-science-FapMMdLP/lib/python3.9/site-packages/sklearn/linear_model/_logistic.py:763: ConvergenceWarning: lbfgs failed to converge (status=1):\n",
      "STOP: TOTAL NO. of ITERATIONS REACHED LIMIT.\n",
      "\n",
      "Increase the number of iterations (max_iter) or scale the data as shown in:\n",
      "    https://scikit-learn.org/stable/modules/preprocessing.html\n",
      "Please also refer to the documentation for alternative solver options:\n",
      "    https://scikit-learn.org/stable/modules/linear_model.html#logistic-regression\n",
      "  n_iter_i = _check_optimize_result(\n"
     ]
    },
    {
     "output_type": "execute_result",
     "data": {
      "text/plain": [
       "0.9733333333333334"
      ]
     },
     "metadata": {},
     "execution_count": 23
    }
   ],
   "source": [
    "x, y = load_iris(return_X_y=True)\n",
    "\n",
    "print('shape of x:', x.shape)\n",
    "print('shape of y:', y.shape)\n",
    "\n",
    "clf = LogisticRegression(random_state=0).fit(x, y)\n",
    "clf.predict(x[:2, :])\n",
    "clf.score(x, y)"
   ]
  },
  {
   "source": [
    "## Example 2\n",
    "### (Standard Scale)"
   ],
   "cell_type": "markdown",
   "metadata": {}
  },
  {
   "cell_type": "code",
   "execution_count": 24,
   "metadata": {},
   "outputs": [],
   "source": [
    "from sklearn.datasets import make_classification\n",
    "from sklearn.linear_model import LogisticRegression\n",
    "from sklearn.model_selection import train_test_split\n",
    "from sklearn.pipeline import make_pipeline\n",
    "from sklearn.preprocessing import StandardScaler"
   ]
  },
  {
   "cell_type": "code",
   "execution_count": 25,
   "metadata": {},
   "outputs": [
    {
     "output_type": "execute_result",
     "data": {
      "text/plain": [
       "Pipeline(steps=[('standardscaler', StandardScaler()),\n",
       "                ('logisticregression', LogisticRegression())])"
      ]
     },
     "metadata": {},
     "execution_count": 25
    }
   ],
   "source": [
    "X, y = make_classification(n_samples=10, random_state=99)\n",
    "X_train, X_test, y_train, y_test = train_test_split(X, y, random_state=99)\n",
    "pipe = make_pipeline(StandardScaler(), LogisticRegression())\n",
    "pipe"
   ]
  },
  {
   "cell_type": "code",
   "execution_count": 26,
   "metadata": {},
   "outputs": [
    {
     "output_type": "execute_result",
     "data": {
      "text/plain": [
       "Pipeline(steps=[('standardscaler', StandardScaler()),\n",
       "                ('logisticregression', LogisticRegression())])"
      ]
     },
     "metadata": {},
     "execution_count": 26
    }
   ],
   "source": [
    "pipe.fit(X_train, y_train)  # apply scaling on training data"
   ]
  },
  {
   "cell_type": "code",
   "execution_count": 27,
   "metadata": {},
   "outputs": [
    {
     "output_type": "execute_result",
     "data": {
      "text/plain": [
       "0.6666666666666666"
      ]
     },
     "metadata": {},
     "execution_count": 27
    }
   ],
   "source": [
    "pipe.score(X_test, y_test)"
   ]
  },
  {
   "source": [
    "---"
   ],
   "cell_type": "markdown",
   "metadata": {}
  },
  {
   "source": [
    "# Exercise\n",
    "## (Classification)\n",
    "\n",
    "\n",
    "This is a very simple Machine Learning example.\n",
    "\n",
    "The model \"learns\" when you should take a coat outside, based on the temperature.\n",
    "\n",
    "\n",
    "**Model:** Logistic Regression\n",
    "\n",
    "**Feature:** Temperature\n",
    "\n",
    "**Labels:** True|False values (Coat or no coat)"
   ],
   "cell_type": "markdown",
   "metadata": {}
  },
  {
   "source": [
    "### Using values"
   ],
   "cell_type": "markdown",
   "metadata": {}
  },
  {
   "cell_type": "code",
   "execution_count": 28,
   "metadata": {},
   "outputs": [],
   "source": [
    "temperature = [[-1], [30], [12], [14], [18], [25], [5], [15], [27]]\n",
    "coat = [True, False, True, True, True, False, True, True, False]"
   ]
  },
  {
   "source": [
    "## Solution 1\n",
    "### (With NO Standard Scaler)"
   ],
   "cell_type": "markdown",
   "metadata": {}
  },
  {
   "source": [
    "from sklearn.linear_model import LogisticRegression"
   ],
   "cell_type": "code",
   "metadata": {},
   "execution_count": 29,
   "outputs": []
  },
  {
   "cell_type": "code",
   "execution_count": 30,
   "metadata": {},
   "outputs": [],
   "source": [
    "X = temperature\n",
    "y = coat\n",
    "\n",
    "clf = LogisticRegression(max_iter=100).fit(X, y)"
   ]
  },
  {
   "cell_type": "code",
   "execution_count": 31,
   "metadata": {},
   "outputs": [
    {
     "output_type": "execute_result",
     "data": {
      "text/plain": [
       "array([ True, False,  True,  True,  True, False,  True,  True, False])"
      ]
     },
     "metadata": {},
     "execution_count": 31
    }
   ],
   "source": [
    "clf.predict(X)"
   ]
  },
  {
   "cell_type": "code",
   "execution_count": 32,
   "metadata": {},
   "outputs": [
    {
     "output_type": "execute_result",
     "data": {
      "text/plain": [
       "array([[8.25971903e-08, 9.99999917e-01],\n",
       "       [9.97995649e-01, 2.00435119e-03],\n",
       "       [1.04203504e-03, 9.98957965e-01],\n",
       "       [4.43999538e-03, 9.95560005e-01],\n",
       "       [7.53771379e-02, 9.24622862e-01],\n",
       "       [9.29446360e-01, 7.05536399e-02],\n",
       "       [6.45509166e-06, 9.99993545e-01],\n",
       "       [9.13731372e-03, 9.90862686e-01],\n",
       "       [9.82554960e-01, 1.74450403e-02]])"
      ]
     },
     "metadata": {},
     "execution_count": 32
    }
   ],
   "source": [
    "clf.predict_proba(X)"
   ]
  },
  {
   "cell_type": "code",
   "execution_count": 33,
   "metadata": {},
   "outputs": [
    {
     "output_type": "execute_result",
     "data": {
      "text/plain": [
       "1.0"
      ]
     },
     "metadata": {},
     "execution_count": 33
    }
   ],
   "source": [
    "clf.score(X, y)"
   ]
  },
  {
   "cell_type": "code",
   "execution_count": 34,
   "metadata": {},
   "outputs": [
    {
     "output_type": "execute_result",
     "data": {
      "text/plain": [
       "array([False,  True,  True, False, False,  True,  True])"
      ]
     },
     "metadata": {},
     "execution_count": 34
    }
   ],
   "source": [
    "clf.predict([[22], [21], [10], [32], [25], [19], [4]])"
   ]
  },
  {
   "source": [
    "## Solution 2\n",
    "### (With Standard Scaler)\n",
    "Source: https://scikit-learn.org/stable/modules/preprocessing.html"
   ],
   "cell_type": "markdown",
   "metadata": {}
  },
  {
   "cell_type": "code",
   "execution_count": 35,
   "metadata": {},
   "outputs": [],
   "source": [
    "from sklearn.linear_model import LogisticRegression\n",
    "from sklearn.pipeline import make_pipeline\n",
    "from sklearn.preprocessing import StandardScaler"
   ]
  },
  {
   "cell_type": "code",
   "execution_count": 36,
   "metadata": {},
   "outputs": [],
   "source": [
    "X = temperature\n",
    "y = coat"
   ]
  },
  {
   "cell_type": "code",
   "execution_count": 37,
   "metadata": {},
   "outputs": [
    {
     "output_type": "execute_result",
     "data": {
      "text/plain": [
       "Pipeline(steps=[('standardscaler', StandardScaler()),\n",
       "                ('logisticregression', LogisticRegression())])"
      ]
     },
     "metadata": {},
     "execution_count": 37
    }
   ],
   "source": [
    "pipe = make_pipeline(StandardScaler(), LogisticRegression())\n",
    "pipe.fit(X, y)"
   ]
  },
  {
   "cell_type": "code",
   "execution_count": 38,
   "metadata": {},
   "outputs": [
    {
     "output_type": "execute_result",
     "data": {
      "text/plain": [
       "array([ True, False,  True,  True,  True, False,  True,  True, False])"
      ]
     },
     "metadata": {},
     "execution_count": 38
    }
   ],
   "source": [
    "pipe.predict(X)"
   ]
  },
  {
   "cell_type": "code",
   "execution_count": 39,
   "metadata": {},
   "outputs": [
    {
     "output_type": "execute_result",
     "data": {
      "text/plain": [
       "array([[0.029949  , 0.970051  ],\n",
       "       [0.7352887 , 0.2647113 ],\n",
       "       [0.16924667, 0.83075333],\n",
       "       [0.21404943, 0.78595057],\n",
       "       [0.32736891, 0.67263109],\n",
       "       [0.57344028, 0.42655972],\n",
       "       [0.06869013, 0.93130987],\n",
       "       [0.23947818, 0.76052182],\n",
       "       [0.64249053, 0.35750947]])"
      ]
     },
     "metadata": {},
     "execution_count": 39
    }
   ],
   "source": [
    "pipe.predict_proba(X)"
   ]
  },
  {
   "cell_type": "code",
   "execution_count": 40,
   "metadata": {},
   "outputs": [
    {
     "output_type": "execute_result",
     "data": {
      "text/plain": [
       "1.0"
      ]
     },
     "metadata": {},
     "execution_count": 40
    }
   ],
   "source": [
    "pipe.score(X, y)"
   ]
  },
  {
   "cell_type": "code",
   "execution_count": 41,
   "metadata": {},
   "outputs": [
    {
     "output_type": "execute_result",
     "data": {
      "text/plain": [
       "array([ True,  True,  True, False, False,  True, False])"
      ]
     },
     "metadata": {},
     "execution_count": 41
    }
   ],
   "source": [
    "pipe.predict([[22], [21], [10], [32], [25], [19], [23]])"
   ]
  },
  {
   "cell_type": "code",
   "execution_count": 42,
   "metadata": {},
   "outputs": [
    {
     "output_type": "execute_result",
     "data": {
      "text/plain": [
       "array([ True,  True,  True, False, False,  True,  True])"
      ]
     },
     "metadata": {},
     "execution_count": 42
    }
   ],
   "source": [
    "pipe.predict([[22], [21], [10], [32], [25], [19], [4]])"
   ]
  }
 ]
}