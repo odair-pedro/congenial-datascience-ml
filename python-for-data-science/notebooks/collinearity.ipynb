{
 "metadata": {
  "language_info": {
   "codemirror_mode": {
    "name": "ipython",
    "version": 3
   },
   "file_extension": ".py",
   "mimetype": "text/x-python",
   "name": "python",
   "nbconvert_exporter": "python",
   "pygments_lexer": "ipython3",
   "version": 3
  },
  "orig_nbformat": 4
 },
 "nbformat": 4,
 "nbformat_minor": 2,
 "cells": [
  {
   "source": [
    "# Collinearity\n",
    "---\n",
    "\n",
    "Source: https://towardsdatascience.com/a-python-library-to-remove-collinearity-5a4eb05d3d73\n",
    "\n",
    "Multi-Collinearity: https://towardsdatascience.com/handling-multi-collinearity-6579eb99fd81"
   ],
   "cell_type": "markdown",
   "metadata": {}
  },
  {
   "cell_type": "code",
   "execution_count": null,
   "metadata": {},
   "outputs": [],
   "source": []
  }
 ]
}